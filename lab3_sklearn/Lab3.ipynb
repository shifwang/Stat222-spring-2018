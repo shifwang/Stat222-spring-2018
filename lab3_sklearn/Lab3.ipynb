{
 "cells": [
  {
   "cell_type": "markdown",
   "metadata": {},
   "source": [
    "# Scikit-learn\n",
    "## You will learn:\n",
    "- Overview of the scikit-learn package\n",
    "- How to use the following ML algorithms in sklearn:\n",
    "    * SVM\n",
    "    * RF (next time)\n",
    "    \n",
    "All materials are from [Scikit-learn webpage](http://scikit-learn.org/stable/)"
   ]
  },
  {
   "cell_type": "markdown",
   "metadata": {},
   "source": [
    "### Linear SVM classifier for separable binary classes\n",
    "For $x_i\\in \\mathbb{R}^d,i = 1,\\ldots, n$ and labels $y_i\\in \\{-1, 1\\}, i = 1,\\ldots, n$\n",
    "$$\n",
    "\\text{minimize } \\|w\\|_2^2 \n",
    "$$\n",
    "$$\n",
    "\\text{subject to } y_i(\\big<w, x_i\\big> + b) \\geq 1 \\text{ for any $i = 1,\\ldots, n$.}\n",
    "$$"
   ]
  },
  {
   "cell_type": "markdown",
   "metadata": {},
   "source": [
    "### Linear SVM classifier with soft margin\n",
    "$$\n",
    "\\text{minimize } \\|w\\|_2^2 + C\\sum_{i=1}^n \\xi_i\n",
    "$$\n",
    "$$\n",
    "\\text{subject to } y_i(\\big<w, x_i\\big> + b) \\geq 1 - \\xi_i, \\xi \\geq 0 \\text{ for any $i = 1,\\ldots, n$.}\n",
    "$$"
   ]
  },
  {
   "cell_type": "markdown",
   "metadata": {},
   "source": [
    "### A different view compared with ridge regression\n",
    "\n",
    "$$\n",
    "\\text{minimize } \\sum_{i=1}^n L(y_i,\\big<w, x_i\\big> + b) + \\frac{1}{C} \\|w\\|_2^2 \n",
    "$$\n",
    "where $L(y, v) = \\max(0, 1 - y\\cdot v)$.\n",
    "\n",
    "Compared with Ridge regression:\n",
    "$$\n",
    "\\text{minimize } \\sum_{i=1}^n (y_i - \\big<w, x_i\\big> - b)^2 + \\frac{1}{C} \\|w\\|_2^2 \n",
    "$$\n",
    "\n"
   ]
  },
  {
   "cell_type": "markdown",
   "metadata": {},
   "source": [
    "### Multi-class extension: one-vs-all and one-vs-one\n",
    "- One vs One: train svm for each pair of categories\n",
    "- one vs all: train svm for each category vs the other category.\n",
    "- more ...\n",
    "\n",
    "### Question: which is faster?"
   ]
  },
  {
   "cell_type": "markdown",
   "metadata": {},
   "source": [
    "### kernels - nonlinear functions can be viewed as a innerproduct after nonlinear map.\n",
    "$(w[1] x[1] + w[2]x[2])^2 = (w[1]^2)(x[1]^2) + 2(w[1]w[2])(x[1]x[2]) + (w[2]^2)(x[2]^2)$."
   ]
  },
  {
   "cell_type": "markdown",
   "metadata": {
    "collapsed": true
   },
   "source": [
    "### Limitations of SVM: what kind of data will be not suitable for SVM?"
   ]
  }
 ],
 "metadata": {
  "kernelspec": {
   "display_name": "Python 3",
   "language": "python",
   "name": "python3"
  },
  "language_info": {
   "codemirror_mode": {
    "name": "ipython",
    "version": 3
   },
   "file_extension": ".py",
   "mimetype": "text/x-python",
   "name": "python",
   "nbconvert_exporter": "python",
   "pygments_lexer": "ipython3",
   "version": "3.4.6"
  }
 },
 "nbformat": 4,
 "nbformat_minor": 1
}
