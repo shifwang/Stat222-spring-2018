{
 "cells": [
  {
   "cell_type": "markdown",
   "metadata": {},
   "source": [
    "# DBSCAN clustering\n",
    "DBSCAN is one of the most popular clustering methods. (The paper [link](https://www.aaai.org/Papers/KDD/1996/KDD96-037.pdf) has been cited 11802 times according to Google.)\n",
    "\n",
    "Goal:\n",
    "\n",
    "- Learn what is DBSCAN\n",
    "- Compare with hierarchical clustering\n",
    "- Compare with K-Means\n",
    "- sklearn example"
   ]
  },
  {
   "cell_type": "markdown",
   "metadata": {},
   "source": [
    "Will be put here before the lab"
   ]
  },
  {
   "cell_type": "code",
   "execution_count": null,
   "metadata": {},
   "outputs": [],
   "source": []
  }
 ],
 "metadata": {
  "kernelspec": {
   "display_name": "Python 3",
   "language": "python",
   "name": "python3"
  },
  "language_info": {
   "codemirror_mode": {
    "name": "ipython",
    "version": 3
   },
   "file_extension": ".py",
   "mimetype": "text/x-python",
   "name": "python",
   "nbconvert_exporter": "python",
   "pygments_lexer": "ipython3",
   "version": "3.6.3"
  }
 },
 "nbformat": 4,
 "nbformat_minor": 2
}
