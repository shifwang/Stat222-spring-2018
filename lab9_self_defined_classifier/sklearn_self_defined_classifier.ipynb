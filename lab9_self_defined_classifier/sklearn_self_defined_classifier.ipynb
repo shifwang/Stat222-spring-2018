{
 "cells": [
  {
   "cell_type": "markdown",
   "metadata": {},
   "source": [
    "# self defined classifier in sklearn\n",
    "Goal of this lab\n",
    "- learn how to define a classifier in sklearn\n",
    "- An example of bitcoin trading strategy.\n",
    "\n",
    "data source: [bitcoin history price in Kaggle](https://www.kaggle.com/mczielinski/bitcoin-historical-data)\n",
    "\n",
    "references [Kaggle clean data challenge](https://www.kaggle.com/rtatman/data-cleaning-challenge-handling-missing-values?utm_medium=email&utm_source=mailchimp&utm_campaign=5DDC-data-cleaning),\n",
    "[Create your own class for sklearn](http://danielhnyk.cz/creating-your-own-estimator-scikit-learn/)"
   ]
  },
  {
   "cell_type": "code",
   "execution_count": 5,
   "metadata": {},
   "outputs": [],
   "source": [
    "import pandas as pd\n",
    "import numpy as np\n",
    "import sklearn as sk"
   ]
  },
  {
   "cell_type": "code",
   "execution_count": 6,
   "metadata": {},
   "outputs": [],
   "source": [
    "raw = pd.read_csv('coinbaseUSD_1-min_data_2014-12-01_to_2018-03-27.csv')"
   ]
  },
  {
   "cell_type": "code",
   "execution_count": 15,
   "metadata": {},
   "outputs": [
    {
     "data": {
      "text/html": [
       "<div>\n",
       "<style scoped>\n",
       "    .dataframe tbody tr th:only-of-type {\n",
       "        vertical-align: middle;\n",
       "    }\n",
       "\n",
       "    .dataframe tbody tr th {\n",
       "        vertical-align: top;\n",
       "    }\n",
       "\n",
       "    .dataframe thead th {\n",
       "        text-align: right;\n",
       "    }\n",
       "</style>\n",
       "<table border=\"1\" class=\"dataframe\">\n",
       "  <thead>\n",
       "    <tr style=\"text-align: right;\">\n",
       "      <th></th>\n",
       "      <th>Timestamp</th>\n",
       "      <th>Open</th>\n",
       "      <th>High</th>\n",
       "      <th>Low</th>\n",
       "      <th>Close</th>\n",
       "      <th>Volume_(BTC)</th>\n",
       "      <th>Volume_(Currency)</th>\n",
       "      <th>Weighted_Price</th>\n",
       "    </tr>\n",
       "  </thead>\n",
       "  <tbody>\n",
       "    <tr>\n",
       "      <th>1486348</th>\n",
       "      <td>1510094100</td>\n",
       "      <td>7065.00</td>\n",
       "      <td>7065.00</td>\n",
       "      <td>7064.99</td>\n",
       "      <td>7065.00</td>\n",
       "      <td>1.679012</td>\n",
       "      <td>11862.221205</td>\n",
       "      <td>7064.999544</td>\n",
       "    </tr>\n",
       "    <tr>\n",
       "      <th>649805</th>\n",
       "      <td>1459901520</td>\n",
       "      <td>422.49</td>\n",
       "      <td>422.61</td>\n",
       "      <td>422.32</td>\n",
       "      <td>422.61</td>\n",
       "      <td>3.114530</td>\n",
       "      <td>1315.990228</td>\n",
       "      <td>422.532526</td>\n",
       "    </tr>\n",
       "    <tr>\n",
       "      <th>1333876</th>\n",
       "      <td>1500945780</td>\n",
       "      <td>2764.71</td>\n",
       "      <td>2764.71</td>\n",
       "      <td>2764.70</td>\n",
       "      <td>2764.71</td>\n",
       "      <td>3.159454</td>\n",
       "      <td>8734.962928</td>\n",
       "      <td>2764.706212</td>\n",
       "    </tr>\n",
       "    <tr>\n",
       "      <th>741056</th>\n",
       "      <td>1465376580</td>\n",
       "      <td>579.23</td>\n",
       "      <td>579.26</td>\n",
       "      <td>579.20</td>\n",
       "      <td>579.26</td>\n",
       "      <td>0.355660</td>\n",
       "      <td>206.009738</td>\n",
       "      <td>579.232238</td>\n",
       "    </tr>\n",
       "    <tr>\n",
       "      <th>232900</th>\n",
       "      <td>1434887220</td>\n",
       "      <td>245.51</td>\n",
       "      <td>245.51</td>\n",
       "      <td>245.51</td>\n",
       "      <td>245.51</td>\n",
       "      <td>2.094400</td>\n",
       "      <td>514.196144</td>\n",
       "      <td>245.510000</td>\n",
       "    </tr>\n",
       "    <tr>\n",
       "      <th>749264</th>\n",
       "      <td>1465869060</td>\n",
       "      <td>693.98</td>\n",
       "      <td>693.98</td>\n",
       "      <td>693.50</td>\n",
       "      <td>693.50</td>\n",
       "      <td>17.129350</td>\n",
       "      <td>11879.861751</td>\n",
       "      <td>693.538386</td>\n",
       "    </tr>\n",
       "    <tr>\n",
       "      <th>906643</th>\n",
       "      <td>1475311800</td>\n",
       "      <td>612.88</td>\n",
       "      <td>612.88</td>\n",
       "      <td>612.88</td>\n",
       "      <td>612.88</td>\n",
       "      <td>0.080880</td>\n",
       "      <td>49.569734</td>\n",
       "      <td>612.880000</td>\n",
       "    </tr>\n",
       "    <tr>\n",
       "      <th>1399743</th>\n",
       "      <td>1504897800</td>\n",
       "      <td>4325.48</td>\n",
       "      <td>4325.48</td>\n",
       "      <td>4325.46</td>\n",
       "      <td>4325.46</td>\n",
       "      <td>12.239368</td>\n",
       "      <td>52940.976670</td>\n",
       "      <td>4325.466371</td>\n",
       "    </tr>\n",
       "    <tr>\n",
       "      <th>281241</th>\n",
       "      <td>1437787680</td>\n",
       "      <td>287.65</td>\n",
       "      <td>287.65</td>\n",
       "      <td>287.65</td>\n",
       "      <td>287.65</td>\n",
       "      <td>0.285800</td>\n",
       "      <td>82.210370</td>\n",
       "      <td>287.650000</td>\n",
       "    </tr>\n",
       "    <tr>\n",
       "      <th>1136556</th>\n",
       "      <td>1489106580</td>\n",
       "      <td>1205.99</td>\n",
       "      <td>1205.99</td>\n",
       "      <td>1205.99</td>\n",
       "      <td>1205.99</td>\n",
       "      <td>0.257000</td>\n",
       "      <td>309.939430</td>\n",
       "      <td>1205.990000</td>\n",
       "    </tr>\n",
       "  </tbody>\n",
       "</table>\n",
       "</div>"
      ],
      "text/plain": [
       "          Timestamp     Open     High      Low    Close  Volume_(BTC)  \\\n",
       "1486348  1510094100  7065.00  7065.00  7064.99  7065.00      1.679012   \n",
       "649805   1459901520   422.49   422.61   422.32   422.61      3.114530   \n",
       "1333876  1500945780  2764.71  2764.71  2764.70  2764.71      3.159454   \n",
       "741056   1465376580   579.23   579.26   579.20   579.26      0.355660   \n",
       "232900   1434887220   245.51   245.51   245.51   245.51      2.094400   \n",
       "749264   1465869060   693.98   693.98   693.50   693.50     17.129350   \n",
       "906643   1475311800   612.88   612.88   612.88   612.88      0.080880   \n",
       "1399743  1504897800  4325.48  4325.48  4325.46  4325.46     12.239368   \n",
       "281241   1437787680   287.65   287.65   287.65   287.65      0.285800   \n",
       "1136556  1489106580  1205.99  1205.99  1205.99  1205.99      0.257000   \n",
       "\n",
       "         Volume_(Currency)  Weighted_Price  \n",
       "1486348       11862.221205     7064.999544  \n",
       "649805         1315.990228      422.532526  \n",
       "1333876        8734.962928     2764.706212  \n",
       "741056          206.009738      579.232238  \n",
       "232900          514.196144      245.510000  \n",
       "749264        11879.861751      693.538386  \n",
       "906643           49.569734      612.880000  \n",
       "1399743       52940.976670     4325.466371  \n",
       "281241           82.210370      287.650000  \n",
       "1136556         309.939430     1205.990000  "
      ]
     },
     "execution_count": 15,
     "metadata": {},
     "output_type": "execute_result"
    }
   ],
   "source": [
    "# take a look at some samples\n",
    "raw.sample(10)"
   ]
  },
  {
   "cell_type": "code",
   "execution_count": 26,
   "metadata": {},
   "outputs": [
    {
     "data": {
      "text/html": [
       "<div>\n",
       "<style scoped>\n",
       "    .dataframe tbody tr th:only-of-type {\n",
       "        vertical-align: middle;\n",
       "    }\n",
       "\n",
       "    .dataframe tbody tr th {\n",
       "        vertical-align: top;\n",
       "    }\n",
       "\n",
       "    .dataframe thead th {\n",
       "        text-align: right;\n",
       "    }\n",
       "</style>\n",
       "<table border=\"1\" class=\"dataframe\">\n",
       "  <thead>\n",
       "    <tr style=\"text-align: right;\">\n",
       "      <th></th>\n",
       "      <th>Timestamp</th>\n",
       "      <th>Open</th>\n",
       "      <th>High</th>\n",
       "      <th>Low</th>\n",
       "      <th>Close</th>\n",
       "      <th>Volume_(BTC)</th>\n",
       "      <th>Volume_(Currency)</th>\n",
       "      <th>Weighted_Price</th>\n",
       "    </tr>\n",
       "  </thead>\n",
       "  <tbody>\n",
       "    <tr>\n",
       "      <th>0</th>\n",
       "      <td>1417411980</td>\n",
       "      <td>300.0</td>\n",
       "      <td>300.0</td>\n",
       "      <td>300.0</td>\n",
       "      <td>300.0</td>\n",
       "      <td>0.01</td>\n",
       "      <td>3.0</td>\n",
       "      <td>300.0</td>\n",
       "    </tr>\n",
       "    <tr>\n",
       "      <th>1</th>\n",
       "      <td>1417412040</td>\n",
       "      <td>300.0</td>\n",
       "      <td>300.0</td>\n",
       "      <td>300.0</td>\n",
       "      <td>300.0</td>\n",
       "      <td>0.01</td>\n",
       "      <td>3.0</td>\n",
       "      <td>300.0</td>\n",
       "    </tr>\n",
       "    <tr>\n",
       "      <th>2</th>\n",
       "      <td>1417412100</td>\n",
       "      <td>300.0</td>\n",
       "      <td>300.0</td>\n",
       "      <td>300.0</td>\n",
       "      <td>300.0</td>\n",
       "      <td>0.01</td>\n",
       "      <td>3.0</td>\n",
       "      <td>300.0</td>\n",
       "    </tr>\n",
       "    <tr>\n",
       "      <th>3</th>\n",
       "      <td>1417412160</td>\n",
       "      <td>300.0</td>\n",
       "      <td>300.0</td>\n",
       "      <td>300.0</td>\n",
       "      <td>300.0</td>\n",
       "      <td>0.01</td>\n",
       "      <td>3.0</td>\n",
       "      <td>300.0</td>\n",
       "    </tr>\n",
       "    <tr>\n",
       "      <th>4</th>\n",
       "      <td>1417412220</td>\n",
       "      <td>300.0</td>\n",
       "      <td>300.0</td>\n",
       "      <td>300.0</td>\n",
       "      <td>300.0</td>\n",
       "      <td>0.01</td>\n",
       "      <td>3.0</td>\n",
       "      <td>300.0</td>\n",
       "    </tr>\n",
       "  </tbody>\n",
       "</table>\n",
       "</div>"
      ],
      "text/plain": [
       "    Timestamp   Open   High    Low  Close  Volume_(BTC)  Volume_(Currency)  \\\n",
       "0  1417411980  300.0  300.0  300.0  300.0          0.01                3.0   \n",
       "1  1417412040  300.0  300.0  300.0  300.0          0.01                3.0   \n",
       "2  1417412100  300.0  300.0  300.0  300.0          0.01                3.0   \n",
       "3  1417412160  300.0  300.0  300.0  300.0          0.01                3.0   \n",
       "4  1417412220  300.0  300.0  300.0  300.0          0.01                3.0   \n",
       "\n",
       "   Weighted_Price  \n",
       "0           300.0  \n",
       "1           300.0  \n",
       "2           300.0  \n",
       "3           300.0  \n",
       "4           300.0  "
      ]
     },
     "execution_count": 26,
     "metadata": {},
     "output_type": "execute_result"
    }
   ],
   "source": [
    "raw.head()"
   ]
  },
  {
   "cell_type": "code",
   "execution_count": 44,
   "metadata": {},
   "outputs": [
    {
     "name": "stdout",
     "output_type": "stream",
     "text": [
      "Number of rows: 1686594 \n",
      "\n",
      "Range of timestamples 104696820 \n",
      "\n"
     ]
    }
   ],
   "source": [
    "# how many rows\n",
    "print(\"Number of rows: %d \\n\" % raw.shape[0])\n",
    "print(\"Range of timestamples %d \\n\" % (raw['Timestamp'].iloc[-1] - raw['Timestamp'].iloc[0]))"
   ]
  },
  {
   "cell_type": "code",
   "execution_count": 11,
   "metadata": {},
   "outputs": [
    {
     "data": {
      "text/plain": [
       "Timestamp            0\n",
       "Open                 0\n",
       "High                 0\n",
       "Low                  0\n",
       "Close                0\n",
       "Volume_(BTC)         0\n",
       "Volume_(Currency)    0\n",
       "Weighted_Price       0\n",
       "dtype: int64"
      ]
     },
     "execution_count": 11,
     "metadata": {},
     "output_type": "execute_result"
    }
   ],
   "source": [
    "# see how many missing values we have\n",
    "raw.isnull().sum()"
   ]
  },
  {
   "cell_type": "code",
   "execution_count": 18,
   "metadata": {},
   "outputs": [],
   "source": [
    "# plotting modules\n",
    "import seaborn as sns\n",
    "import matplotlib.pyplot as plt"
   ]
  },
  {
   "cell_type": "code",
   "execution_count": 62,
   "metadata": {},
   "outputs": [
    {
     "data": {
      "text/plain": [
       "Text(0.5,1,'Weighted price')"
      ]
     },
     "execution_count": 62,
     "metadata": {},
     "output_type": "execute_result"
    },
    {
     "data": {
      "image/png": "[encoded data removed]",
      "text/plain": [
       "<matplotlib.figure.Figure at 0x7f6e95064ba8>"
      ]
     },
     "metadata": {},
     "output_type": "display_data"
    }
   ],
   "source": [
    "# plot the weighted price\n",
    "plt.plot(raw.Timestamp, raw.Weighted_Price)\n",
    "plt.title(\"Weighted price\")"
   ]
  },
  {
   "cell_type": "code",
   "execution_count": 25,
   "metadata": {},
   "outputs": [],
   "source": [
    "# deal with date time\n",
    "import datetime"
   ]
  },
  {
   "cell_type": "code",
   "execution_count": 36,
   "metadata": {},
   "outputs": [
    {
     "name": "stdout",
     "output_type": "stream",
     "text": [
      "2014-11-30 21:33:00\n",
      "2014-11-30 21:34:00\n",
      "2018-03-26 17:00:00\n"
     ]
    }
   ],
   "source": [
    "print(datetime.datetime.fromtimestamp(raw.Timestamp.iloc[0]))\n",
    "print(datetime.datetime.fromtimestamp(raw.Timestamp.iloc[1]))\n",
    "print(datetime.datetime.fromtimestamp(raw.Timestamp.iloc[-1]))"
   ]
  },
  {
   "cell_type": "code",
   "execution_count": 37,
   "metadata": {},
   "outputs": [],
   "source": [
    "dates = [datetime.datetime.fromtimestamp(i) for i in raw.Timestamp]"
   ]
  },
  {
   "cell_type": "code",
   "execution_count": 41,
   "metadata": {},
   "outputs": [],
   "source": [
    "raw['dates'] = pd.Series(dates, index=raw.index)"
   ]
  },
  {
   "cell_type": "code",
   "execution_count": 42,
   "metadata": {},
   "outputs": [
    {
     "data": {
      "text/html": [
       "<div>\n",
       "<style scoped>\n",
       "    .dataframe tbody tr th:only-of-type {\n",
       "        vertical-align: middle;\n",
       "    }\n",
       "\n",
       "    .dataframe tbody tr th {\n",
       "        vertical-align: top;\n",
       "    }\n",
       "\n",
       "    .dataframe thead th {\n",
       "        text-align: right;\n",
       "    }\n",
       "</style>\n",
       "<table border=\"1\" class=\"dataframe\">\n",
       "  <thead>\n",
       "    <tr style=\"text-align: right;\">\n",
       "      <th></th>\n",
       "      <th>Timestamp</th>\n",
       "      <th>Open</th>\n",
       "      <th>High</th>\n",
       "      <th>Low</th>\n",
       "      <th>Close</th>\n",
       "      <th>Volume_(BTC)</th>\n",
       "      <th>Volume_(Currency)</th>\n",
       "      <th>Weighted_Price</th>\n",
       "      <th>dates</th>\n",
       "    </tr>\n",
       "  </thead>\n",
       "  <tbody>\n",
       "    <tr>\n",
       "      <th>0</th>\n",
       "      <td>1417411980</td>\n",
       "      <td>300.0</td>\n",
       "      <td>300.0</td>\n",
       "      <td>300.0</td>\n",
       "      <td>300.0</td>\n",
       "      <td>0.01</td>\n",
       "      <td>3.0</td>\n",
       "      <td>300.0</td>\n",
       "      <td>2014-11-30 21:33:00</td>\n",
       "    </tr>\n",
       "    <tr>\n",
       "      <th>1</th>\n",
       "      <td>1417412040</td>\n",
       "      <td>300.0</td>\n",
       "      <td>300.0</td>\n",
       "      <td>300.0</td>\n",
       "      <td>300.0</td>\n",
       "      <td>0.01</td>\n",
       "      <td>3.0</td>\n",
       "      <td>300.0</td>\n",
       "      <td>2014-11-30 21:34:00</td>\n",
       "    </tr>\n",
       "    <tr>\n",
       "      <th>2</th>\n",
       "      <td>1417412100</td>\n",
       "      <td>300.0</td>\n",
       "      <td>300.0</td>\n",
       "      <td>300.0</td>\n",
       "      <td>300.0</td>\n",
       "      <td>0.01</td>\n",
       "      <td>3.0</td>\n",
       "      <td>300.0</td>\n",
       "      <td>2014-11-30 21:35:00</td>\n",
       "    </tr>\n",
       "    <tr>\n",
       "      <th>3</th>\n",
       "      <td>1417412160</td>\n",
       "      <td>300.0</td>\n",
       "      <td>300.0</td>\n",
       "      <td>300.0</td>\n",
       "      <td>300.0</td>\n",
       "      <td>0.01</td>\n",
       "      <td>3.0</td>\n",
       "      <td>300.0</td>\n",
       "      <td>2014-11-30 21:36:00</td>\n",
       "    </tr>\n",
       "    <tr>\n",
       "      <th>4</th>\n",
       "      <td>1417412220</td>\n",
       "      <td>300.0</td>\n",
       "      <td>300.0</td>\n",
       "      <td>300.0</td>\n",
       "      <td>300.0</td>\n",
       "      <td>0.01</td>\n",
       "      <td>3.0</td>\n",
       "      <td>300.0</td>\n",
       "      <td>2014-11-30 21:37:00</td>\n",
       "    </tr>\n",
       "  </tbody>\n",
       "</table>\n",
       "</div>"
      ],
      "text/plain": [
       "    Timestamp   Open   High    Low  Close  Volume_(BTC)  Volume_(Currency)  \\\n",
       "0  1417411980  300.0  300.0  300.0  300.0          0.01                3.0   \n",
       "1  1417412040  300.0  300.0  300.0  300.0          0.01                3.0   \n",
       "2  1417412100  300.0  300.0  300.0  300.0          0.01                3.0   \n",
       "3  1417412160  300.0  300.0  300.0  300.0          0.01                3.0   \n",
       "4  1417412220  300.0  300.0  300.0  300.0          0.01                3.0   \n",
       "\n",
       "   Weighted_Price               dates  \n",
       "0           300.0 2014-11-30 21:33:00  \n",
       "1           300.0 2014-11-30 21:34:00  \n",
       "2           300.0 2014-11-30 21:35:00  \n",
       "3           300.0 2014-11-30 21:36:00  \n",
       "4           300.0 2014-11-30 21:37:00  "
      ]
     },
     "execution_count": 42,
     "metadata": {},
     "output_type": "execute_result"
    }
   ],
   "source": [
    "raw.head()"
   ]
  },
  {
   "cell_type": "code",
   "execution_count": 43,
   "metadata": {},
   "outputs": [
    {
     "data": {
      "text/plain": [
       "count    1.686594e+06\n",
       "mean     7.675075e+00\n",
       "std      1.810103e+01\n",
       "min      1.000000e-08\n",
       "25%      7.582000e-01\n",
       "50%      2.598192e+00\n",
       "75%      7.639615e+00\n",
       "max      1.563267e+03\n",
       "Name: Volume_(BTC), dtype: float64"
      ]
     },
     "execution_count": 43,
     "metadata": {},
     "output_type": "execute_result"
    }
   ],
   "source": [
    "raw['Volume_(BTC)'].describe()"
   ]
  },
  {
   "cell_type": "code",
   "execution_count": 46,
   "metadata": {},
   "outputs": [],
   "source": [
    "diff_time = [raw['Timestamp'][i] - raw['Timestamp'][i-1] for i in range(1, raw.shape[0])]"
   ]
  },
  {
   "cell_type": "code",
   "execution_count": 56,
   "metadata": {},
   "outputs": [
    {
     "data": {
      "text/plain": [
       "<matplotlib.axes._subplots.AxesSubplot at 0x7f6e94f14128>"
      ]
     },
     "execution_count": 56,
     "metadata": {},
     "output_type": "execute_result"
    },
    {
     "data": {
      "image/png": "[encoded data removed]",
      "text/plain": [
       "<matplotlib.figure.Figure at 0x7f6e9512a080>"
      ]
     },
     "metadata": {},
     "output_type": "display_data"
    }
   ],
   "source": [
    "sns.boxplot(diff_time)\n"
   ]
  },
  {
   "cell_type": "code",
   "execution_count": 59,
   "metadata": {},
   "outputs": [
    {
     "name": "stdout",
     "output_type": "stream",
     "text": [
      "longest number of days not traded: 20 days\n"
     ]
    }
   ],
   "source": [
    "# longest number of days not traded\n",
    "print(\"longest number of days not traded: %d days\" % (max(diff_time)/3600/24))"
   ]
  },
  {
   "cell_type": "code",
   "execution_count": 76,
   "metadata": {},
   "outputs": [
    {
     "data": {
      "text/plain": [
       "Text(0.5,1,'number of records each day')"
      ]
     },
     "execution_count": 76,
     "metadata": {},
     "output_type": "execute_result"
    },
    {
     "data": {
      "image/png": "[encoded data removed]",
      "text/plain": [
       "<matplotlib.figure.Figure at 0x7f6e952e2898>"
      ]
     },
     "metadata": {},
     "output_type": "display_data"
    }
   ],
   "source": [
    "sns.distplot([i.day for i in raw.dates], bins=31).set_title('number of records each day')"
   ]
  },
  {
   "cell_type": "code",
   "execution_count": 109,
   "metadata": {},
   "outputs": [
    {
     "data": {
      "text/plain": [
       "0.06"
      ]
     },
     "execution_count": 109,
     "metadata": {},
     "output_type": "execute_result"
    }
   ],
   "source": [
    "min(raw['Weighted_Price'])"
   ]
  },
  {
   "cell_type": "code",
   "execution_count": 77,
   "metadata": {},
   "outputs": [],
   "source": [
    "from sklearn.base import BaseEstimator"
   ]
  },
  {
   "cell_type": "code",
   "execution_count": 123,
   "metadata": {},
   "outputs": [],
   "source": [
    "class TradingStragety(BaseEstimator):\n",
    "    \"\"\"My trading strategy\"\"\"\n",
    "    def __init__(self, buy_thres = .99, sell_thres = 1.02):\n",
    "        self.buy_thres = buy_thres\n",
    "        self.sell_thres = sell_thres\n",
    "    def fit(self, X, y = None):\n",
    "        assert self.buy_thres < 1, \"buy threshold should be smaller than 1 but %f given\"%self.buy_thres\n",
    "        candidate_volume = [1e-1, 1, 10, 20, 50]\n",
    "        scores = [self._profit(X, volume) for volume in candidate_volume]\n",
    "        self.volume_ = candidate_volume[np.argmax(scores)]\n",
    "        return self\n",
    "    def _profit(self, prices, volume):\n",
    "        btc = 0\n",
    "        usd = 0\n",
    "        history = [0]\n",
    "        for row_ind in range(len(prices)):\n",
    "            if row_ind == 0:\n",
    "                continue\n",
    "            price = prices[row_ind]\n",
    "            if price > prices[row_ind - 1] * self.sell_thres:\n",
    "                btc += volume/price\n",
    "                usd -= volume\n",
    "                history.append(volume)\n",
    "            elif price < prices[row_ind - 1] * self.buy_thres:\n",
    "                btc -= volume/price\n",
    "                usd += volume\n",
    "                history.append(volume )\n",
    "        return (usd + btc * prices[-1])\n",
    "    def predict(self, X, y=None):\n",
    "        action = []\n",
    "        for row_ind in range(len(prices)):\n",
    "            if row_ind == 0:\n",
    "                action.append(0)\n",
    "                continue\n",
    "            price = prices[row_ind]\n",
    "            if price > prices[row_ind - 1] * self.sell_thres:\n",
    "                action.append(-1)\n",
    "            elif price < prices[row_ind - 1] * self.buy_thres:\n",
    "                action.append(1)\n",
    "        return action\n",
    "    def score(self, X, y=None):\n",
    "        return self._profit(X, self.volume_)"
   ]
  },
  {
   "cell_type": "code",
   "execution_count": 142,
   "metadata": {},
   "outputs": [
    {
     "data": {
      "text/plain": [
       "{'buy_thres': 0.999, 'sell_thres': 1.002}"
      ]
     },
     "execution_count": 142,
     "metadata": {},
     "output_type": "execute_result"
    }
   ],
   "source": [
    "from sklearn.grid_search import GridSearchCV\n",
    "from sklearn.model_selection import TimeSeriesSplit\n",
    "start_date = datetime.datetime.today() - datetime.timedelta(days=90)\n",
    "mask = raw['dates'] > start_date\n",
    "X = np.array(raw['Weighted_Price'].loc[mask])\n",
    "y = [1 for i in X]\n",
    "splitter = TimeSeriesSplit(n_splits=3)\n",
    "for train_index, test_index in splitter.split(X):\n",
    "    X_train, X_test = X[train_index], X[test_index]\n",
    "    \n",
    "tuned_params = {\"buy_thres\" : [.999], \"sell_thres\": [1.002, 1.003]}\n",
    "\n",
    "gs = GridSearchCV(TradingStragety(), tuned_params)\n",
    "\n",
    "# for some reason I have to pass y with same shape\n",
    "# otherwise gridsearch throws an error. Not sure why.\n",
    "gs.fit(X_train, y=[1 for i in range(len(X_train))])\n",
    "\n",
    "gs.best_params_ # {'intValue': -10} # and that is what we expect :)  "
   ]
  },
  {
   "cell_type": "code",
   "execution_count": 143,
   "metadata": {},
   "outputs": [
    {
     "data": {
      "text/plain": [
       "-5463.531784845062"
      ]
     },
     "execution_count": 143,
     "metadata": {},
     "output_type": "execute_result"
    }
   ],
   "source": [
    "gs.best_score_"
   ]
  },
  {
   "cell_type": "code",
   "execution_count": 144,
   "metadata": {},
   "outputs": [
    {
     "data": {
      "text/plain": [
       "0.1"
      ]
     },
     "execution_count": 144,
     "metadata": {},
     "output_type": "execute_result"
    }
   ],
   "source": [
    "tr = TradingStragety()\n",
    "tr.fit(X_train)\n",
    "tr.volume_"
   ]
  },
  {
   "cell_type": "code",
   "execution_count": 145,
   "metadata": {},
   "outputs": [
    {
     "data": {
      "text/plain": [
       "5883.3949116"
      ]
     },
     "execution_count": 145,
     "metadata": {},
     "output_type": "execute_result"
    }
   ],
   "source": [
    "min(X_train)"
   ]
  }
 ],
 "metadata": {
  "kernelspec": {
   "display_name": "Python 3",
   "language": "python",
   "name": "python3"
  },
  "language_info": {
   "codemirror_mode": {
    "name": "ipython",
    "version": 3
   },
   "file_extension": ".py",
   "mimetype": "text/x-python",
   "name": "python",
   "nbconvert_exporter": "python",
   "pygments_lexer": "ipython3",
   "version": "3.6.3"
  }
 },
 "nbformat": 4,
 "nbformat_minor": 2
}
