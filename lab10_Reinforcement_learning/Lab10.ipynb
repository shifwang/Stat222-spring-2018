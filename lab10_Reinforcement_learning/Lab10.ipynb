{
 "cells": [
  {
   "cell_type": "markdown",
   "metadata": {},
   "source": [
    "# Reinforcement learning (RL)\n",
    "Goal of the lab:\n",
    "- What is RL\n",
    "    - Motivation\n",
    "    - distinction between RL and supervised learning\n",
    "    - distinction between RL and online learning\n",
    "- Several important examples\n",
    "    - Bandit problem\n",
    "    \n",
    "    - a control game\n",
    "- An example using neural net to \n"
   ]
  }
 ],
 "metadata": {
  "kernelspec": {
   "display_name": "Python 3",
   "language": "python",
   "name": "python3"
  },
  "language_info": {
   "codemirror_mode": {
    "name": "ipython",
    "version": 3
   },
   "file_extension": ".py",
   "mimetype": "text/x-python",
   "name": "python",
   "nbconvert_exporter": "python",
   "pygments_lexer": "ipython3",
   "version": "3.6.3"
  }
 },
 "nbformat": 4,
 "nbformat_minor": 2
}
