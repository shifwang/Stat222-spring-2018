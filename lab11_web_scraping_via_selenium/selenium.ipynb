{
 "cells": [
  {
   "cell_type": "markdown",
   "metadata": {},
   "source": [
    "# Web scraping via selenium (python)\n",
    "\n",
    "Goal:\n",
    "\n",
    "- what is HTML\n",
    "- What is Selenium: a python package that automates the web browser\n",
    "- Installation: ref [here]()\n",
    "- How to use it to check your credit care balance."
   ]
  },
  {
   "cell_type": "markdown",
   "metadata": {},
   "source": [
    "[An intro video about html](https://www.youtube.com/watch?v=v4oN4DuR7YU)"
   ]
  },
  {
   "cell_type": "code",
   "execution_count": 27,
   "metadata": {},
   "outputs": [
    {
     "data": {
      "text/html": [
       "<iframe src=https://www.lucidchart.com/publicSegments/view/78fa6efd-a410-43b7-a73e-c93b8d60b659/image.png width=700 height=500></iframe>"
      ],
      "text/plain": [
       "<IPython.core.display.HTML object>"
      ]
     },
     "execution_count": 27,
     "metadata": {},
     "output_type": "execute_result"
    }
   ],
   "source": [
    "# Display the associated webpage in a new window\n",
    "import IPython\n",
    "url = 'https://www.lucidchart.com/publicSegments/view/78fa6efd-a410-43b7-a73e-c93b8d60b659/image.png'\n",
    "iframe = '<iframe src=' + url + ' width=700 height=500></iframe>'\n",
    "IPython.display.HTML(iframe)"
   ]
  },
  {
   "cell_type": "code",
   "execution_count": 1,
   "metadata": {},
   "outputs": [],
   "source": [
    "from selenium import webdriver"
   ]
  },
  {
   "cell_type": "code",
   "execution_count": 2,
   "metadata": {},
   "outputs": [],
   "source": [
    "# start chrome\n",
    "chrome = webdriver.Chrome()"
   ]
  },
  {
   "cell_type": "code",
   "execution_count": 4,
   "metadata": {},
   "outputs": [],
   "source": [
    "# get the webpage\n",
    "chrome.get('https://discover.com')"
   ]
  },
  {
   "cell_type": "markdown",
   "metadata": {},
   "source": [
    "**Xpath is a way to locate an element in html page.** ref: [here](https://www.guru99.com/xpath-selenium.html)"
   ]
  },
  {
   "cell_type": "code",
   "execution_count": 7,
   "metadata": {},
   "outputs": [],
   "source": [
    "# find the button that has \"Log In\"\n",
    "button = chrome.find_element_by_xpath('//a[contains(text(), \"Log In\")]')\n",
    "button.click()"
   ]
  },
  {
   "cell_type": "code",
   "execution_count": 9,
   "metadata": {},
   "outputs": [],
   "source": [
    "# find the first input\n",
    "input1 = chrome.find_element_by_xpath('//input[@id = \"userid\"]')\n",
    "input1.click()\n",
    "input1.send_keys('bear')"
   ]
  },
  {
   "cell_type": "code",
   "execution_count": 10,
   "metadata": {},
   "outputs": [],
   "source": [
    "# a different way to achive the same thing\n",
    "input1 = chrome.find_element_by_id('userid')\n",
    "input1.click()\n",
    "input1.send_keys('bear')"
   ]
  },
  {
   "cell_type": "code",
   "execution_count": 11,
   "metadata": {},
   "outputs": [],
   "source": [
    "# input the keyword\n",
    "input2 = chrome.find_element_by_name('password')\n",
    "input2.click()\n",
    "input2.send_keys('123abc')"
   ]
  },
  {
   "cell_type": "code",
   "execution_count": 13,
   "metadata": {},
   "outputs": [],
   "source": [
    "input3 = chrome.find_element_by_xpath('//input[@value=\"Log In\"]')\n",
    "input3.click()"
   ]
  },
  {
   "cell_type": "code",
   "execution_count": 21,
   "metadata": {},
   "outputs": [
    {
     "name": "stdout",
     "output_type": "stream",
     "text": [
      "Your account cannot currently be accessed.\n",
      "Outdated browsers can expose your computer to security risks. To get the best experience on Discover.com, you may need to update your browser to the latest version and try again.\n",
      "For questions, please contact us at 1-800-347-7769. We're always available 24 hours a day, 7 days a week.\n"
     ]
    }
   ],
   "source": [
    "div = chrome.find_element_by_xpath('//div[contains(h1,\"Your account\")]')\n",
    "print(div.text)"
   ]
  },
  {
   "cell_type": "code",
   "execution_count": 22,
   "metadata": {},
   "outputs": [],
   "source": [
    "chrome.close()"
   ]
  },
  {
   "cell_type": "code",
   "execution_count": null,
   "metadata": {},
   "outputs": [],
   "source": []
  }
 ],
 "metadata": {
  "kernelspec": {
   "display_name": "Python 3",
   "language": "python",
   "name": "python3"
  },
  "language_info": {
   "codemirror_mode": {
    "name": "ipython",
    "version": 3
   },
   "file_extension": ".py",
   "mimetype": "text/x-python",
   "name": "python",
   "nbconvert_exporter": "python",
   "pygments_lexer": "ipython3",
   "version": "3.6.3"
  }
 },
 "nbformat": 4,
 "nbformat_minor": 2
}
