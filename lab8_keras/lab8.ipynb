{
  "nbformat": 4,
  "nbformat_minor": 0,
  "metadata": {
    "colab": {
      "name": "lab8.ipynb",
      "version": "0.3.2",
      "views": {},
      "default_view": {},
      "provenance": [],
      "collapsed_sections": [],
      "toc_visible": true
    },
    "kernelspec": {
      "name": "python3",
      "display_name": "Python 3"
    },
    "accelerator": "GPU"
  },
  "cells": [
    {
      "metadata": {
        "id": "-pSOK19H9Lu1",
        "colab_type": "text"
      },
      "cell_type": "markdown",
      "source": [
        "# Lab 8 - Using Keras to train neural nets\n",
        "* Goal of this lab is to introduce a set of tools in pyhon useful for training neural nets: Keras, Google colab.\n",
        "* Use 2 different neural networks to predict MNIST"
      ]
    },
    {
      "metadata": {
        "id": "B3YlJ2iBAok5",
        "colab_type": "code",
        "colab": {
          "autoexec": {
            "startup": false,
            "wait_interval": 0
          },
          "output_extras": [
            {
              "item_id": 1
            }
          ],
          "base_uri": "https://localhost:8080/",
          "height": 278
        },
        "outputId": "0afa45e7-001c-4cb8-96f0-5c7d8ca647d4",
        "executionInfo": {
          "status": "ok",
          "timestamp": 1521090461337,
          "user_tz": 420,
          "elapsed": 379,
          "user": {
            "displayName": "Yu Wang",
            "photoUrl": "//lh6.googleusercontent.com/-A8i_0eDuf5A/AAAAAAAAAAI/AAAAAAAAAA8/U8CdJm_uUX4/s50-c-k-no/photo.jpg",
            "userId": "118275377526300225485"
          }
        }
      },
      "cell_type": "code",
      "source": [
        "from tensorflow.python.client import device_lib\n",
        "print(device_lib.list_local_devices())"
      ],
      "execution_count": 3,
      "outputs": [
        {
          "output_type": "stream",
          "text": [
            "[name: \"/device:CPU:0\"\n",
            "device_type: \"CPU\"\n",
            "memory_limit: 268435456\n",
            "locality {\n",
            "}\n",
            "incarnation: 16330495335210229171\n",
            ", name: \"/device:GPU:0\"\n",
            "device_type: \"GPU\"\n",
            "memory_limit: 338690048\n",
            "locality {\n",
            "  bus_id: 1\n",
            "}\n",
            "incarnation: 17761999784191457442\n",
            "physical_device_desc: \"device: 0, name: Tesla K80, pci bus id: 0000:00:04.0, compute capability: 3.7\"\n",
            "]\n"
          ],
          "name": "stdout"
        }
      ]
    },
    {
      "metadata": {
        "id": "RqqEVYOTD5yU",
        "colab_type": "code",
        "colab": {
          "autoexec": {
            "startup": false,
            "wait_interval": 0
          },
          "output_extras": [
            {
              "item_id": 1
            }
          ],
          "base_uri": "https://localhost:8080/",
          "height": 35
        },
        "outputId": "66df2671-bb1b-4447-8942-84bcc6f65167",
        "executionInfo": {
          "status": "ok",
          "timestamp": 1521090575935,
          "user_tz": 420,
          "elapsed": 416,
          "user": {
            "displayName": "Yu Wang",
            "photoUrl": "//lh6.googleusercontent.com/-A8i_0eDuf5A/AAAAAAAAAAI/AAAAAAAAAA8/U8CdJm_uUX4/s50-c-k-no/photo.jpg",
            "userId": "118275377526300225485"
          }
        }
      },
      "cell_type": "code",
      "source": [
        "from keras import backend as K\n",
        "K.tensorflow_backend._get_available_gpus()"
      ],
      "execution_count": 5,
      "outputs": [
        {
          "output_type": "execute_result",
          "data": {
            "text/plain": [
              "['/job:localhost/replica:0/task:0/device:GPU:0']"
            ]
          },
          "metadata": {
            "tags": []
          },
          "execution_count": 5
        }
      ]
    },
    {
      "metadata": {
        "id": "EsJQ4ktdEN8u",
        "colab_type": "code",
        "colab": {
          "autoexec": {
            "startup": false,
            "wait_interval": 0
          }
        }
      },
      "cell_type": "code",
      "source": [
        "# 3. Import libraries and modules\n",
        "import numpy as np\n",
        "np.random.seed(123)  # for reproducibility\n",
        "\n",
        "from keras.models import Model\n",
        "from keras.layers import Dense, Dropout, Activation, Flatten, Input\n",
        "from keras.layers import Convolution2D, MaxPooling2D\n",
        "from keras.utils import np_utils\n",
        "from keras.datasets import mnist\n",
        "import matplotlib.pyplot as plt"
      ],
      "execution_count": 0,
      "outputs": []
    },
    {
      "metadata": {
        "id": "-nk_HL9lGrSp",
        "colab_type": "code",
        "colab": {
          "autoexec": {
            "startup": false,
            "wait_interval": 0
          },
          "output_extras": [
            {
              "item_id": 1
            }
          ],
          "base_uri": "https://localhost:8080/",
          "height": 347
        },
        "outputId": "ac11f40e-4dfe-4fa0-ed35-67e299d42c96",
        "executionInfo": {
          "status": "ok",
          "timestamp": 1521091546847,
          "user_tz": 420,
          "elapsed": 35,
          "user": {
            "displayName": "Yu Wang",
            "photoUrl": "//lh6.googleusercontent.com/-A8i_0eDuf5A/AAAAAAAAAAI/AAAAAAAAAA8/U8CdJm_uUX4/s50-c-k-no/photo.jpg",
            "userId": "118275377526300225485"
          }
        }
      },
      "cell_type": "code",
      "source": [
        "def disp_digit(ind):\n",
        "  plt.imshow(X_train[ind, :,:])\n",
        "  \n",
        "interactive(disp_digit, ind = [0, 1, 2, 3])\n",
        "#display(y)"
      ],
      "execution_count": 31,
      "outputs": [
        {
          "output_type": "display_data",
          "data": {
            "image/png": "[encoded data removed]",
            "text/plain": [
              "<matplotlib.figure.Figure at 0x7f808b931f98>"
            ]
          },
          "metadata": {
            "tags": []
          }
        }
      ]
    },
    {
      "metadata": {
        "id": "7qpEqgdJEZ41",
        "colab_type": "code",
        "colab": {
          "autoexec": {
            "startup": false,
            "wait_interval": 0
          },
          "output_extras": [
            {
              "item_id": 1
            },
            {
              "item_id": 2
            },
            {
              "item_id": 3
            }
          ],
          "base_uri": "https://localhost:8080/",
          "height": 713
        },
        "outputId": "57e8764f-a7c3-428b-d8b2-ccf5db72cb01",
        "executionInfo": {
          "status": "ok",
          "timestamp": 1521095443082,
          "user_tz": 420,
          "elapsed": 993,
          "user": {
            "displayName": "Yu Wang",
            "photoUrl": "//lh6.googleusercontent.com/-A8i_0eDuf5A/AAAAAAAAAAI/AAAAAAAAAA8/U8CdJm_uUX4/s50-c-k-no/photo.jpg",
            "userId": "118275377526300225485"
          }
        }
      },
      "cell_type": "code",
      "source": [
        "'''Import and Process Data'''\n",
        "\n",
        "# 4. Load pre-shuffled MNIST data into train and test sets\n",
        "(X_train, y_train), (X_test, y_test) = mnist.load_data()\n",
        "print(X_train.shape)\n",
        "print(y_train)\n",
        "plt.hist(y_train)\n",
        "plt.show()\n",
        "for i in range(10):\n",
        "  plt.imshow(X_train[i,:,:])"
      ],
      "execution_count": 95,
      "outputs": [
        {
          "output_type": "stream",
          "text": [
            "(60000, 28, 28)\n",
            "[5 0 4 ... 5 6 8]\n"
          ],
          "name": "stdout"
        },
        {
          "output_type": "display_data",
          "data": {
            "image/png": "[encoded data removed]",
            "text/plain": [
              "<matplotlib.figure.Figure at 0x7f80859d3e10>"
            ]
          },
          "metadata": {
            "tags": []
          }
        },
        {
          "output_type": "display_data",
          "data": {
            "image/png": "[encoded data removed]",
            "text/plain": [
              "<matplotlib.figure.Figure at 0x7f80859fe898>"
            ]
          },
          "metadata": {
            "tags": []
          }
        }
      ]
    },
    {
      "metadata": {
        "id": "jA5QGyV9E6Yu",
        "colab_type": "code",
        "colab": {
          "autoexec": {
            "startup": false,
            "wait_interval": 0
          },
          "output_extras": [
            {
              "item_id": 1
            }
          ],
          "base_uri": "https://localhost:8080/",
          "height": 35
        },
        "outputId": "1aebda58-c58b-460d-85a3-a8f28935d2b0",
        "executionInfo": {
          "status": "ok",
          "timestamp": 1521095447456,
          "user_tz": 420,
          "elapsed": 430,
          "user": {
            "displayName": "Yu Wang",
            "photoUrl": "//lh6.googleusercontent.com/-A8i_0eDuf5A/AAAAAAAAAAI/AAAAAAAAAA8/U8CdJm_uUX4/s50-c-k-no/photo.jpg",
            "userId": "118275377526300225485"
          }
        }
      },
      "cell_type": "code",
      "source": [
        "# 5. Preprocess input data\n",
        "X_train = X_train.reshape(X_train.shape[0], 28, 28, 1)\n",
        "X_test = X_test.reshape(X_test.shape[0], 28, 28, 1)\n",
        "X_train = X_train.astype('float32')\n",
        "X_test = X_test.astype('float32')\n",
        "X_train /= 255\n",
        "X_test /= 255\n",
        "print(X_train.shape)"
      ],
      "execution_count": 96,
      "outputs": [
        {
          "output_type": "stream",
          "text": [
            "(60000, 28, 28, 1)\n"
          ],
          "name": "stdout"
        }
      ]
    },
    {
      "metadata": {
        "id": "Y_cgk1CULOLD",
        "colab_type": "code",
        "colab": {
          "autoexec": {
            "startup": false,
            "wait_interval": 0
          },
          "output_extras": [
            {
              "item_id": 1
            }
          ],
          "base_uri": "https://localhost:8080/",
          "height": 139
        },
        "outputId": "0246793c-d5d2-4a6f-b24a-978c2c81532a",
        "executionInfo": {
          "status": "ok",
          "timestamp": 1521095453996,
          "user_tz": 420,
          "elapsed": 394,
          "user": {
            "displayName": "Yu Wang",
            "photoUrl": "//lh6.googleusercontent.com/-A8i_0eDuf5A/AAAAAAAAAAI/AAAAAAAAAA8/U8CdJm_uUX4/s50-c-k-no/photo.jpg",
            "userId": "118275377526300225485"
          }
        }
      },
      "cell_type": "code",
      "source": [
        "# 6. Preprocess class labels\n",
        "Y_train = np_utils.to_categorical(y_train, 10)\n",
        "Y_test = np_utils.to_categorical(y_test, 10)\n",
        "print(Y_train)"
      ],
      "execution_count": 97,
      "outputs": [
        {
          "output_type": "stream",
          "text": [
            "[[0. 0. 0. ... 0. 0. 0.]\n",
            " [1. 0. 0. ... 0. 0. 0.]\n",
            " [0. 0. 0. ... 0. 0. 0.]\n",
            " ...\n",
            " [0. 0. 0. ... 0. 0. 0.]\n",
            " [0. 0. 0. ... 0. 0. 0.]\n",
            " [0. 0. 0. ... 0. 1. 0.]]\n"
          ],
          "name": "stdout"
        }
      ]
    },
    {
      "metadata": {
        "id": "cTAuqBUULZey",
        "colab_type": "code",
        "colab": {
          "autoexec": {
            "startup": false,
            "wait_interval": 0
          },
          "output_extras": [
            {
              "item_id": 52
            },
            {
              "item_id": 114
            }
          ],
          "base_uri": "https://localhost:8080/",
          "height": 264
        },
        "outputId": "ed2c6c78-3c8a-49a1-df8c-f785e2a3ace5",
        "executionInfo": {
          "status": "ok",
          "timestamp": 1521096317991,
          "user_tz": 420,
          "elapsed": 31232,
          "user": {
            "displayName": "Yu Wang",
            "photoUrl": "//lh6.googleusercontent.com/-A8i_0eDuf5A/AAAAAAAAAAI/AAAAAAAAAA8/U8CdJm_uUX4/s50-c-k-no/photo.jpg",
            "userId": "118275377526300225485"
          }
        }
      },
      "cell_type": "code",
      "source": [
        "# 7. Define model architecture\n",
        "images = Input(shape=(28, 28, 1), dtype='float32')\n",
        "print(images)\n",
        "\n",
        "#Reshapes an nd tensor to 2d tensor.\n",
        "flattened_images = Flatten()(images)\n",
        "print(flattened_images)\n",
        "\n",
        "#Applies f(Wx+b) where f is the activation\n",
        "hidden1 = Dense(units=32, activation='tanh')(flattened_images)\n",
        "print(hidden1)\n",
        "#Applies f(Wx+b) where f is the activation\n",
        "pred_probs = Dense(units=10, activation='softmax')(hidden1)\n",
        "print(pred_probs)\n",
        "\n",
        "model = Model(inputs=images, outputs=pred_probs)\n",
        "print(model)\n",
        "\n",
        "# 8. Compile model\n",
        "model.compile(loss='categorical_crossentropy',\n",
        "              optimizer='adam',\n",
        "              metrics=['accuracy'])\n",
        "\n",
        "# 9. Fit model on training data\n",
        "model.fit(X_train, Y_train,\n",
        "          batch_size=32, epochs=3, verbose=1)\n",
        "\n",
        "# 10. Evaluate model on test data\n",
        "score = model.evaluate(X_test, Y_test, verbose=0)\n",
        "\n",
        "print(\"Test loss: \"+str(score[0]))\n",
        "print(\"Test acc: \"+str(score[1]))"
      ],
      "execution_count": 111,
      "outputs": [
        {
          "output_type": "stream",
          "text": [
            "Tensor(\"input_20:0\", shape=(?, 28, 28, 1), dtype=float32)\n",
            "Tensor(\"flatten_29/Reshape:0\", shape=(?, ?), dtype=float32)\n",
            "Tensor(\"dense_50/Tanh:0\", shape=(?, 32), dtype=float32)\n",
            "Tensor(\"dense_51/Softmax:0\", shape=(?, 10), dtype=float32)\n",
            "<keras.engine.training.Model object at 0x7f8080d6b9e8>\n",
            "Epoch 1/3\n",
            "60000/60000 [==============================] - 10s 173us/step - loss: 0.3631 - acc: 0.9011\n",
            "Epoch 2/3\n",
            "20448/60000 [=========>....................] - ETA: 6s - loss: 0.2004 - acc: 0.9426"
          ],
          "name": "stdout"
        },
        {
          "output_type": "stream",
          "text": [
            "60000/60000 [==============================] - 10s 159us/step - loss: 0.1962 - acc: 0.9436\n",
            "Epoch 3/3\n",
            "60000/60000 [==============================] - 10s 159us/step - loss: 0.1559 - acc: 0.9554\n",
            "Test loss: 0.15561026070564984\n",
            "Test acc: 0.9543\n"
          ],
          "name": "stdout"
        }
      ]
    },
    {
      "metadata": {
        "id": "RyIN18hHPg7V",
        "colab_type": "code",
        "colab": {
          "autoexec": {
            "startup": false,
            "wait_interval": 0
          },
          "output_extras": [
            {
              "item_id": 1
            }
          ],
          "base_uri": "https://localhost:8080/",
          "height": 35
        },
        "outputId": "109dd0be-bf92-4166-da70-3b3941fe4038",
        "executionInfo": {
          "status": "ok",
          "timestamp": 1521096327898,
          "user_tz": 420,
          "elapsed": 1333,
          "user": {
            "displayName": "Yu Wang",
            "photoUrl": "//lh6.googleusercontent.com/-A8i_0eDuf5A/AAAAAAAAAAI/AAAAAAAAAA8/U8CdJm_uUX4/s50-c-k-no/photo.jpg",
            "userId": "118275377526300225485"
          }
        }
      },
      "cell_type": "code",
      "source": [
        "1 - np.mean([np.argmax(i) for i in model.predict(X_test)] != y_test)"
      ],
      "execution_count": 112,
      "outputs": [
        {
          "output_type": "execute_result",
          "data": {
            "text/plain": [
              "0.9543"
            ]
          },
          "metadata": {
            "tags": []
          },
          "execution_count": 112
        }
      ]
    },
    {
      "metadata": {
        "id": "a6yXqXT79WBm",
        "colab_type": "code",
        "colab": {
          "autoexec": {
            "startup": false,
            "wait_interval": 0
          },
          "output_extras": [
            {
              "item_id": 1
            },
            {
              "item_id": 46
            }
          ],
          "base_uri": "https://localhost:8080/",
          "height": 139
        },
        "outputId": "1d73781f-3df4-432e-bd83-fb127320eb3b",
        "executionInfo": {
          "status": "ok",
          "timestamp": 1521096576860,
          "user_tz": 420,
          "elapsed": 15220,
          "user": {
            "displayName": "Yu Wang",
            "photoUrl": "//lh6.googleusercontent.com/-A8i_0eDuf5A/AAAAAAAAAAI/AAAAAAAAAA8/U8CdJm_uUX4/s50-c-k-no/photo.jpg",
            "userId": "118275377526300225485"
          }
        }
      },
      "cell_type": "code",
      "source": [
        "# 7. Define model architecture\n",
        "images = Input(shape=(28, 28,1), dtype='float32')\n",
        "\n",
        "#Apply a 2d convolution. Will return a tensor with shape (batch_size,9,9,32)\n",
        "conv1 = Convolution2D(filters=32, kernel_size=3, strides=3, activation='relu')(images)\n",
        "\n",
        "#Apply a 2d convolution. Will return a tensor with shape (batch_size,3,3,32)\n",
        "conv2 = Convolution2D(filters=32, kernel_size=3, strides=3, activation='relu')(conv1)\n",
        "\n",
        "#For each channel Take maximum element in a 2x2 box and slide the box by 2\n",
        "pool = MaxPooling2D(pool_size=(2,2))(conv2)\n",
        "\n",
        "#Makes each element zero with probability rate\n",
        "dropout_pool = Dropout(rate=.25)(pool)\n",
        "\n",
        "#Reshapes an nd tensor into a 2d tensor\n",
        "flattened_pool = Flatten()(dropout_pool)\n",
        "\n",
        "#Applies f(Wx+b) where f is the activation\n",
        "dense1 = Dense(units=128, activation='relu')(flattened_pool)\n",
        "\n",
        "#Makes each element zero with probability rate\n",
        "dropout_dense1 = Dropout(rate=.5)(dense1)\n",
        "\n",
        "#Applies f(Wx+b) where f is the activation\n",
        "pred_probs = Dense(10, activation='softmax')(dropout_dense1)\n",
        "\n",
        "model = Model(inputs=images, outputs=pred_probs)\n",
        "\n",
        "# 8. Compile model\n",
        "model.compile(loss='categorical_crossentropy',\n",
        "              optimizer='adam',\n",
        "              metrics=['accuracy'])\n",
        "\n",
        "'''Run Model'''\n",
        "\n",
        "# 9. Fit model on training data\n",
        "model.fit(X_train, Y_train,\n",
        "          batch_size=128, nb_epoch=3, verbose=1)\n",
        "\n",
        "# 10. Evaluate model on test data\n",
        "score = model.evaluate(X_test, Y_test, verbose=0)\n"
      ],
      "execution_count": 116,
      "outputs": [
        {
          "output_type": "stream",
          "text": [
            "/usr/local/lib/python3.6/dist-packages/ipykernel_launcher.py:38: UserWarning: The `nb_epoch` argument in `fit` has been renamed `epochs`.\n"
          ],
          "name": "stderr"
        },
        {
          "output_type": "stream",
          "text": [
            "Epoch 1/3\n",
            "60000/60000 [==============================] - 5s 86us/step - loss: 1.1760 - acc: 0.6146\n",
            "Epoch 2/3\n",
            "60000/60000 [==============================] - 4s 64us/step - loss: 0.7091 - acc: 0.7812\n",
            "Epoch 3/3\n",
            "60000/60000 [==============================] - 4s 64us/step - loss: 0.6057 - acc: 0.8149\n"
          ],
          "name": "stdout"
        }
      ]
    },
    {
      "metadata": {
        "id": "cV01ggYYTNMP",
        "colab_type": "code",
        "colab": {
          "autoexec": {
            "startup": false,
            "wait_interval": 0
          },
          "output_extras": [
            {
              "item_id": 1
            },
            {
              "item_id": 124
            },
            {
              "item_id": 125
            }
          ],
          "base_uri": "https://localhost:8080/",
          "height": 174
        },
        "outputId": "130e5631-77c9-406f-c727-5f543dd319c5",
        "executionInfo": {
          "status": "ok",
          "timestamp": 1521096425313,
          "user_tz": 420,
          "elapsed": 33985,
          "user": {
            "displayName": "Yu Wang",
            "photoUrl": "//lh6.googleusercontent.com/-A8i_0eDuf5A/AAAAAAAAAAI/AAAAAAAAAA8/U8CdJm_uUX4/s50-c-k-no/photo.jpg",
            "userId": "118275377526300225485"
          }
        }
      },
      "cell_type": "code",
      "source": [
        "from keras import Sequential\n",
        "model = Sequential()\n",
        "model.add(Convolution2D(32, kernel_size=(3, 3),\n",
        "                 activation='relu',\n",
        "                 input_shape=(28, 28, 1)))\n",
        "model.add(Convolution2D(64, (3, 3), activation='relu'))\n",
        "model.add(MaxPooling2D(pool_size=(2, 2)))\n",
        "model.add(Dropout(0.25))\n",
        "model.add(Flatten())\n",
        "model.add(Dense(128, activation='relu'))\n",
        "model.add(Dropout(0.5))\n",
        "model.add(Dense(10, activation='softmax'))\n",
        "\n",
        "model.compile(loss='categorical_crossentropy',\n",
        "              optimizer='adam',\n",
        "              metrics=['accuracy'])\n",
        "\n",
        "model.fit(X_train, Y_train,\n",
        "          batch_size=128, nb_epoch=3, verbose=1)\n",
        "\n"
      ],
      "execution_count": 114,
      "outputs": [
        {
          "output_type": "stream",
          "text": [
            "/usr/local/lib/python3.6/dist-packages/keras/models.py:942: UserWarning: The `nb_epoch` argument in `fit` has been renamed `epochs`.\n",
            "  warnings.warn('The `nb_epoch` argument in `fit` '\n"
          ],
          "name": "stderr"
        },
        {
          "output_type": "stream",
          "text": [
            "Epoch 1/3\n",
            "60000/60000 [==============================] - 12s 197us/step - loss: 0.2402 - acc: 0.9266\n",
            "Epoch 2/3\n",
            "60000/60000 [==============================] - 11s 175us/step - loss: 0.0854 - acc: 0.9738\n",
            "Epoch 3/3\n",
            "60000/60000 [==============================] - 11s 175us/step - loss: 0.0643 - acc: 0.9814\n"
          ],
          "name": "stdout"
        },
        {
          "output_type": "execute_result",
          "data": {
            "text/plain": [
              "<keras.callbacks.History at 0x7f807fa0d080>"
            ]
          },
          "metadata": {
            "tags": []
          },
          "execution_count": 114
        }
      ]
    },
    {
      "metadata": {
        "id": "FzDdDLC0V2nk",
        "colab_type": "code",
        "colab": {
          "autoexec": {
            "startup": false,
            "wait_interval": 0
          },
          "output_extras": [
            {
              "item_id": 1
            }
          ],
          "base_uri": "https://localhost:8080/",
          "height": 2449
        },
        "outputId": "9ca6f81e-2b6b-4ae5-ad50-dcaa00addfdc",
        "executionInfo": {
          "status": "ok",
          "timestamp": 1521095384943,
          "user_tz": 420,
          "elapsed": 377,
          "user": {
            "displayName": "Yu Wang",
            "photoUrl": "//lh6.googleusercontent.com/-A8i_0eDuf5A/AAAAAAAAAAI/AAAAAAAAAA8/U8CdJm_uUX4/s50-c-k-no/photo.jpg",
            "userId": "118275377526300225485"
          }
        }
      },
      "cell_type": "code",
      "source": [
        "#print(X_train[0,:,:, 0])\n",
        "print(x_train[0,:,:,0])"
      ],
      "execution_count": 94,
      "outputs": [
        {
          "output_type": "stream",
          "text": [
            "[[0.         0.         0.         0.         0.         0.\n",
            "  0.         0.         0.         0.         0.         0.\n",
            "  0.         0.         0.         0.         0.         0.\n",
            "  0.         0.         0.         0.         0.         0.\n",
            "  0.         0.         0.         0.        ]\n",
            " [0.         0.         0.         0.         0.         0.\n",
            "  0.         0.         0.         0.         0.         0.\n",
            "  0.         0.         0.         0.         0.         0.\n",
            "  0.         0.         0.         0.         0.         0.\n",
            "  0.         0.         0.         0.        ]\n",
            " [0.         0.         0.         0.         0.         0.\n",
            "  0.         0.         0.         0.         0.         0.\n",
            "  0.         0.         0.         0.         0.         0.\n",
            "  0.         0.         0.         0.         0.         0.\n",
            "  0.         0.         0.         0.        ]\n",
            " [0.         0.         0.         0.         0.         0.\n",
            "  0.         0.         0.         0.         0.         0.\n",
            "  0.         0.         0.         0.         0.         0.\n",
            "  0.         0.         0.         0.         0.         0.\n",
            "  0.         0.         0.         0.        ]\n",
            " [0.         0.         0.         0.         0.         0.\n",
            "  0.         0.         0.         0.         0.         0.\n",
            "  0.         0.         0.         0.         0.         0.\n",
            "  0.         0.         0.         0.         0.         0.\n",
            "  0.         0.         0.         0.        ]\n",
            " [0.         0.         0.         0.         0.         0.\n",
            "  0.         0.         0.         0.         0.         0.\n",
            "  0.01176471 0.07058824 0.07058824 0.07058824 0.49411765 0.53333336\n",
            "  0.6862745  0.10196079 0.6509804  1.         0.96862745 0.49803922\n",
            "  0.         0.         0.         0.        ]\n",
            " [0.         0.         0.         0.         0.         0.\n",
            "  0.         0.         0.11764706 0.14117648 0.36862746 0.6039216\n",
            "  0.6666667  0.99215686 0.99215686 0.99215686 0.99215686 0.99215686\n",
            "  0.88235295 0.6745098  0.99215686 0.9490196  0.7647059  0.2509804\n",
            "  0.         0.         0.         0.        ]\n",
            " [0.         0.         0.         0.         0.         0.\n",
            "  0.         0.19215687 0.93333334 0.99215686 0.99215686 0.99215686\n",
            "  0.99215686 0.99215686 0.99215686 0.99215686 0.99215686 0.9843137\n",
            "  0.3647059  0.32156864 0.32156864 0.21960784 0.15294118 0.\n",
            "  0.         0.         0.         0.        ]\n",
            " [0.         0.         0.         0.         0.         0.\n",
            "  0.         0.07058824 0.85882354 0.99215686 0.99215686 0.99215686\n",
            "  0.99215686 0.99215686 0.7764706  0.7137255  0.96862745 0.94509804\n",
            "  0.         0.         0.         0.         0.         0.\n",
            "  0.         0.         0.         0.        ]\n",
            " [0.         0.         0.         0.         0.         0.\n",
            "  0.         0.         0.3137255  0.6117647  0.41960785 0.99215686\n",
            "  0.99215686 0.8039216  0.04313726 0.         0.16862746 0.6039216\n",
            "  0.         0.         0.         0.         0.         0.\n",
            "  0.         0.         0.         0.        ]\n",
            " [0.         0.         0.         0.         0.         0.\n",
            "  0.         0.         0.         0.05490196 0.00392157 0.6039216\n",
            "  0.99215686 0.3529412  0.         0.         0.         0.\n",
            "  0.         0.         0.         0.         0.         0.\n",
            "  0.         0.         0.         0.        ]\n",
            " [0.         0.         0.         0.         0.         0.\n",
            "  0.         0.         0.         0.         0.         0.54509807\n",
            "  0.99215686 0.74509805 0.00784314 0.         0.         0.\n",
            "  0.         0.         0.         0.         0.         0.\n",
            "  0.         0.         0.         0.        ]\n",
            " [0.         0.         0.         0.         0.         0.\n",
            "  0.         0.         0.         0.         0.         0.04313726\n",
            "  0.74509805 0.99215686 0.27450982 0.         0.         0.\n",
            "  0.         0.         0.         0.         0.         0.\n",
            "  0.         0.         0.         0.        ]\n",
            " [0.         0.         0.         0.         0.         0.\n",
            "  0.         0.         0.         0.         0.         0.\n",
            "  0.13725491 0.94509804 0.88235295 0.627451   0.42352942 0.00392157\n",
            "  0.         0.         0.         0.         0.         0.\n",
            "  0.         0.         0.         0.        ]\n",
            " [0.         0.         0.         0.         0.         0.\n",
            "  0.         0.         0.         0.         0.         0.\n",
            "  0.         0.31764707 0.9411765  0.99215686 0.99215686 0.46666667\n",
            "  0.09803922 0.         0.         0.         0.         0.\n",
            "  0.         0.         0.         0.        ]\n",
            " [0.         0.         0.         0.         0.         0.\n",
            "  0.         0.         0.         0.         0.         0.\n",
            "  0.         0.         0.1764706  0.7294118  0.99215686 0.99215686\n",
            "  0.5882353  0.10588235 0.         0.         0.         0.\n",
            "  0.         0.         0.         0.        ]\n",
            " [0.         0.         0.         0.         0.         0.\n",
            "  0.         0.         0.         0.         0.         0.\n",
            "  0.         0.         0.         0.0627451  0.3647059  0.9882353\n",
            "  0.99215686 0.73333335 0.         0.         0.         0.\n",
            "  0.         0.         0.         0.        ]\n",
            " [0.         0.         0.         0.         0.         0.\n",
            "  0.         0.         0.         0.         0.         0.\n",
            "  0.         0.         0.         0.         0.         0.9764706\n",
            "  0.99215686 0.9764706  0.2509804  0.         0.         0.\n",
            "  0.         0.         0.         0.        ]\n",
            " [0.         0.         0.         0.         0.         0.\n",
            "  0.         0.         0.         0.         0.         0.\n",
            "  0.         0.         0.18039216 0.50980395 0.7176471  0.99215686\n",
            "  0.99215686 0.8117647  0.00784314 0.         0.         0.\n",
            "  0.         0.         0.         0.        ]\n",
            " [0.         0.         0.         0.         0.         0.\n",
            "  0.         0.         0.         0.         0.         0.\n",
            "  0.15294118 0.5803922  0.8980392  0.99215686 0.99215686 0.99215686\n",
            "  0.98039216 0.7137255  0.         0.         0.         0.\n",
            "  0.         0.         0.         0.        ]\n",
            " [0.         0.         0.         0.         0.         0.\n",
            "  0.         0.         0.         0.         0.09411765 0.44705883\n",
            "  0.8666667  0.99215686 0.99215686 0.99215686 0.99215686 0.7882353\n",
            "  0.30588236 0.         0.         0.         0.         0.\n",
            "  0.         0.         0.         0.        ]\n",
            " [0.         0.         0.         0.         0.         0.\n",
            "  0.         0.         0.09019608 0.25882354 0.8352941  0.99215686\n",
            "  0.99215686 0.99215686 0.99215686 0.7764706  0.31764707 0.00784314\n",
            "  0.         0.         0.         0.         0.         0.\n",
            "  0.         0.         0.         0.        ]\n",
            " [0.         0.         0.         0.         0.         0.\n",
            "  0.07058824 0.67058825 0.85882354 0.99215686 0.99215686 0.99215686\n",
            "  0.99215686 0.7647059  0.3137255  0.03529412 0.         0.\n",
            "  0.         0.         0.         0.         0.         0.\n",
            "  0.         0.         0.         0.        ]\n",
            " [0.         0.         0.         0.         0.21568628 0.6745098\n",
            "  0.8862745  0.99215686 0.99215686 0.99215686 0.99215686 0.95686275\n",
            "  0.52156866 0.04313726 0.         0.         0.         0.\n",
            "  0.         0.         0.         0.         0.         0.\n",
            "  0.         0.         0.         0.        ]\n",
            " [0.         0.         0.         0.         0.53333336 0.99215686\n",
            "  0.99215686 0.99215686 0.83137256 0.5294118  0.5176471  0.0627451\n",
            "  0.         0.         0.         0.         0.         0.\n",
            "  0.         0.         0.         0.         0.         0.\n",
            "  0.         0.         0.         0.        ]\n",
            " [0.         0.         0.         0.         0.         0.\n",
            "  0.         0.         0.         0.         0.         0.\n",
            "  0.         0.         0.         0.         0.         0.\n",
            "  0.         0.         0.         0.         0.         0.\n",
            "  0.         0.         0.         0.        ]\n",
            " [0.         0.         0.         0.         0.         0.\n",
            "  0.         0.         0.         0.         0.         0.\n",
            "  0.         0.         0.         0.         0.         0.\n",
            "  0.         0.         0.         0.         0.         0.\n",
            "  0.         0.         0.         0.        ]\n",
            " [0.         0.         0.         0.         0.         0.\n",
            "  0.         0.         0.         0.         0.         0.\n",
            "  0.         0.         0.         0.         0.         0.\n",
            "  0.         0.         0.         0.         0.         0.\n",
            "  0.         0.         0.         0.        ]]\n"
          ],
          "name": "stdout"
        }
      ]
    },
    {
      "metadata": {
        "id": "vTkRjDcPUgTW",
        "colab_type": "code",
        "colab": {
          "autoexec": {
            "startup": false,
            "wait_interval": 0
          },
          "output_extras": [
            {
              "item_id": 93
            },
            {
              "item_id": 216
            },
            {
              "item_id": 315
            },
            {
              "item_id": 438
            },
            {
              "item_id": 533
            }
          ],
          "base_uri": "https://localhost:8080/",
          "height": 559
        },
        "outputId": "6e038eac-eafe-4875-8aee-8e54630a9b96",
        "executionInfo": {
          "status": "ok",
          "timestamp": 1521095077228,
          "user_tz": 420,
          "elapsed": 137520,
          "user": {
            "displayName": "Yu Wang",
            "photoUrl": "//lh6.googleusercontent.com/-A8i_0eDuf5A/AAAAAAAAAAI/AAAAAAAAAA8/U8CdJm_uUX4/s50-c-k-no/photo.jpg",
            "userId": "118275377526300225485"
          }
        }
      },
      "cell_type": "code",
      "source": [
        "'''Trains a simple convnet on the MNIST dataset.\n",
        "\n",
        "Gets to 99.25% test accuracy after 12 epochs\n",
        "(there is still a lot of margin for parameter tuning).\n",
        "16 seconds per epoch on a GRID K520 GPU.\n",
        "'''\n",
        "\n",
        "from __future__ import print_function\n",
        "import keras\n",
        "from keras.datasets import mnist\n",
        "from keras.models import Sequential\n",
        "from keras.layers import Dense, Dropout, Flatten\n",
        "from keras.layers import Conv2D, MaxPooling2D\n",
        "from keras import backend as K\n",
        "\n",
        "batch_size = 128\n",
        "num_classes = 10\n",
        "epochs = 12\n",
        "\n",
        "# input image dimensions\n",
        "img_rows, img_cols = 28, 28\n",
        "\n",
        "# the data, split between train and test sets\n",
        "(x_train, y_train), (x_test, y_test) = mnist.load_data()\n",
        "\n",
        "if K.image_data_format() == 'channels_first':\n",
        "    x_train = x_train.reshape(x_train.shape[0], 1, img_rows, img_cols)\n",
        "    x_test = x_test.reshape(x_test.shape[0], 1, img_rows, img_cols)\n",
        "    input_shape = (1, img_rows, img_cols)\n",
        "else:\n",
        "    x_train = x_train.reshape(x_train.shape[0], img_rows, img_cols, 1)\n",
        "    x_test = x_test.reshape(x_test.shape[0], img_rows, img_cols, 1)\n",
        "    input_shape = (img_rows, img_cols, 1)\n",
        "\n",
        "x_train = x_train.astype('float32')\n",
        "x_test = x_test.astype('float32')\n",
        "x_train /= 255\n",
        "x_test /= 255\n",
        "print('x_train shape:', x_train.shape)\n",
        "print(x_train.shape[0], 'train samples')\n",
        "print(x_test.shape[0], 'test samples')\n",
        "\n",
        "# convert class vectors to binary class matrices\n",
        "y_train = keras.utils.to_categorical(y_train, num_classes)\n",
        "y_test = keras.utils.to_categorical(y_test, num_classes)\n",
        "\n",
        "model = Sequential()\n",
        "model.add(Conv2D(32, kernel_size=(3, 3),\n",
        "                 activation='relu',\n",
        "                 input_shape=input_shape))\n",
        "model.add(Conv2D(64, (3, 3), activation='relu'))\n",
        "model.add(MaxPooling2D(pool_size=(2, 2)))\n",
        "model.add(Dropout(0.25))\n",
        "model.add(Flatten())\n",
        "model.add(Dense(128, activation='relu'))\n",
        "model.add(Dropout(0.5))\n",
        "model.add(Dense(num_classes, activation='softmax'))\n",
        "\n",
        "model.compile(loss=keras.losses.categorical_crossentropy,\n",
        "              optimizer=keras.optimizers.Adadelta(),\n",
        "              metrics=['accuracy'])\n",
        "\n",
        "model.fit(x_train, y_train,\n",
        "          batch_size=batch_size,\n",
        "          epochs=epochs,\n",
        "          verbose=1,\n",
        "          validation_data=(x_test, y_test))\n",
        "score = model.evaluate(x_test, y_test, verbose=0)\n",
        "print('Test loss:', score[0])\n",
        "print('Test accuracy:', score[1])\n"
      ],
      "execution_count": 88,
      "outputs": [
        {
          "output_type": "stream",
          "text": [
            "x_train shape: (60000, 28, 28, 1)\n",
            "60000 train samples\n",
            "10000 test samples\n",
            "Train on 60000 samples, validate on 10000 samples\n",
            "Epoch 1/12\n",
            "60000/60000 [==============================] - 12s 197us/step - loss: 0.2638 - acc: 0.9186 - val_loss: 0.0564 - val_acc: 0.9813\n",
            "Epoch 2/12\n",
            "60000/60000 [==============================] - 11s 186us/step - loss: 0.0898 - acc: 0.9735 - val_loss: 0.0413 - val_acc: 0.9866\n",
            "Epoch 3/12\n",
            " 2048/60000 [>.............................] - ETA: 10s - loss: 0.0649 - acc: 0.9795"
          ],
          "name": "stdout"
        },
        {
          "output_type": "stream",
          "text": [
            "60000/60000 [==============================] - 11s 186us/step - loss: 0.0670 - acc: 0.9803 - val_loss: 0.0326 - val_acc: 0.9894\n",
            "Epoch 4/12\n",
            "60000/60000 [==============================] - 11s 186us/step - loss: 0.0560 - acc: 0.9833 - val_loss: 0.0295 - val_acc: 0.9898\n",
            "Epoch 5/12\n",
            "49664/60000 [=======================>......] - ETA: 1s - loss: 0.0474 - acc: 0.9853"
          ],
          "name": "stdout"
        },
        {
          "output_type": "stream",
          "text": [
            "60000/60000 [==============================] - 11s 186us/step - loss: 0.0482 - acc: 0.9854 - val_loss: 0.0350 - val_acc: 0.9889\n",
            "Epoch 6/12\n",
            "60000/60000 [==============================] - 11s 186us/step - loss: 0.0444 - acc: 0.9864 - val_loss: 0.0297 - val_acc: 0.9905\n",
            "Epoch 7/12\n",
            "60000/60000 [==============================] - 11s 187us/step - loss: 0.0394 - acc: 0.9883 - val_loss: 0.0265 - val_acc: 0.9916\n",
            "Epoch 8/12\n",
            "  896/60000 [..............................] - ETA: 10s - loss: 0.0404 - acc: 0.9866"
          ],
          "name": "stdout"
        },
        {
          "output_type": "stream",
          "text": [
            "60000/60000 [==============================] - 11s 186us/step - loss: 0.0357 - acc: 0.9893 - val_loss: 0.0282 - val_acc: 0.9911\n",
            "Epoch 9/12\n",
            "60000/60000 [==============================] - 11s 187us/step - loss: 0.0327 - acc: 0.9898 - val_loss: 0.0267 - val_acc: 0.9918\n",
            "Epoch 10/12\n",
            "50176/60000 [========================>.....] - ETA: 1s - loss: 0.0306 - acc: 0.9907"
          ],
          "name": "stdout"
        },
        {
          "output_type": "stream",
          "text": [
            "60000/60000 [==============================] - 11s 186us/step - loss: 0.0312 - acc: 0.9904 - val_loss: 0.0261 - val_acc: 0.9915\n",
            "Epoch 11/12\n",
            "60000/60000 [==============================] - 11s 187us/step - loss: 0.0298 - acc: 0.9911 - val_loss: 0.0275 - val_acc: 0.9911\n",
            "Epoch 12/12\n",
            "60000/60000 [==============================] - 11s 187us/step - loss: 0.0277 - acc: 0.9920 - val_loss: 0.0363 - val_acc: 0.9892\n",
            "Test loss: 0.036335711765417\n",
            "Test accuracy: 0.9892\n"
          ],
          "name": "stdout"
        }
      ]
    },
    {
      "metadata": {
        "id": "Ra30N3TGT00v",
        "colab_type": "code",
        "colab": {
          "autoexec": {
            "startup": false,
            "wait_interval": 0
          }
        }
      },
      "cell_type": "code",
      "source": [
        ""
      ],
      "execution_count": 0,
      "outputs": []
    }
  ]
}